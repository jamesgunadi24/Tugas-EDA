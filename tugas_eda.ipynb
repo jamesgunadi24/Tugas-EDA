{
  "nbformat": 4,
  "nbformat_minor": 0,
  "metadata": {
    "colab": {
      "name": "tugas eda.ipynb",
      "provenance": [],
      "collapsed_sections": [
        "KDgK4wAqAa-7",
        "HIntDgrNBDMY",
        "ahqq-HlgBd13",
        "SSmRUjYEBpZ1",
        "kslgAdCo9zFk",
        "Rz42ENIuBCUX",
        "OmcNVXPVB4p2",
        "l2fRjFsZCX8J"
      ]
    },
    "kernelspec": {
      "name": "python3",
      "display_name": "Python 3"
    },
    "language_info": {
      "name": "python"
    }
  },
  "cells": [
    {
      "cell_type": "code",
      "metadata": {
        "id": "kv0cJhIIrCEp"
      },
      "source": [
        "import pandas as pd\n",
        "import numpy as np\n",
        "import matplotlib.pyplot as plt\n",
        "import seaborn as sns\n",
        "import matplotlib.cm as sm"
      ],
      "execution_count": null,
      "outputs": []
    },
    {
      "cell_type": "markdown",
      "metadata": {
        "id": "8SYYWRE9H0M_"
      },
      "source": [
        "#**Tugas 01** (Keluarkan outlier atasnya)"
      ]
    },
    {
      "cell_type": "code",
      "metadata": {
        "id": "Xb4iBySVH2zt"
      },
      "source": [
        "# Importing CSV data  https://pandas.pydata.org/pandas-docs/stable/reference/api/pandas.read_csv.html\n",
        "try:\n",
        "    # Running Locally \n",
        "    price = pd.read_csv('data/price.csv')\n",
        "except:\n",
        "    # Running in Google Colab\n",
        "    !mkdir data\n",
        "    !wget -P data/ https://raw.githubusercontent.com/taudata-indonesia/eLearning/master/data/price.csv\n",
        "    price = pd.read_csv('data/price.csv')\n",
        "# Dari EDA-01 - Bisa juga Load PreProcessed Data\n",
        "price.drop(\"Observation\", axis=1, inplace=True)\n",
        "price.drop_duplicates(inplace=True)\n",
        "price['Parking'] = price['Parking'].astype('category')\n",
        "price['City_Category'] = price['City_Category'].astype('category')"
      ],
      "execution_count": null,
      "outputs": []
    },
    {
      "cell_type": "code",
      "metadata": {
        "id": "_X1ffNR4H2qY",
        "colab": {
          "base_uri": "https://localhost:8080/",
          "height": 280
        },
        "outputId": "637694a9-7e53-4c72-e3cc-89523c100cd8"
      },
      "source": [
        "p = sns.boxplot(x=\"House_Price\", y=\"Parking\", data=price) #boxplot terlihat aneh maka kemungkinan besar terdapat outlier"
      ],
      "execution_count": null,
      "outputs": [
        {
          "output_type": "display_data",
          "data": {
            "image/png": "[encoded data removed]",
            "text/plain": [
              "<Figure size 432x288 with 1 Axes>"
            ]
          },
          "metadata": {
            "tags": [],
            "needs_background": "light"
          }
        }
      ]
    },
    {
      "cell_type": "code",
      "metadata": {
        "id": "VVk9x0xsH2cV",
        "colab": {
          "base_uri": "https://localhost:8080/"
        },
        "outputId": "c9b6046d-91e1-47f1-b94b-c3fd550daab3"
      },
      "source": [
        "price2 = price[np.abs(price.House_Price - price.House_Price.mean())<=(2*price.House_Price.std())] #Preprocessed Data\n",
        "Q1=price2[\"House_Price\"].quantile(0.25)\n",
        "Q3=price2[\"House_Price\"].quantile(0.75)\n",
        "JIQ = Q3 - Q1 #Jangkauan Inter Quartil\n",
        "print(\"Q1 = {}, Q3 = {}, JIQ = {}\".format(Q1, Q3, JIQ))\n",
        "\n",
        "zero=0\n",
        "batas_atas = Q3 + 1.5 *JIQ\n",
        "\n",
        "x = price2['House_Price'] \n",
        "no_outliers = x.between(0,batas_atas) #mengexclude value-value yang diluar batas atas (variabel memiliki data type boolean)\n",
        "outlier_index = price2[~no_outliers].index #variabel yang menyimpan index outlier\n",
        "price2=price2.drop(outlier_index, inplace=False) #mengeluarkan outlier dari dataframe\n"
      ],
      "execution_count": null,
      "outputs": [
        {
          "output_type": "stream",
          "text": [
            "Q1 = 4658000.0, Q3 = 7180500.0, JIQ = 2522500.0\n"
          ],
          "name": "stdout"
        }
      ]
    },
    {
      "cell_type": "code",
      "metadata": {
        "id": "_IZOxT9cH2JH",
        "colab": {
          "base_uri": "https://localhost:8080/"
        },
        "outputId": "85c0f096-1649-4917-8022-024c715630f5"
      },
      "source": [
        "print(no_outliers.value_counts()) #Dari sini diketahui terdapat 1 outlier"
      ],
      "execution_count": null,
      "outputs": [
        {
          "output_type": "stream",
          "text": [
            "True     930\n",
            "False      1\n",
            "Name: House_Price, dtype: int64\n"
          ],
          "name": "stdout"
        }
      ]
    },
    {
      "cell_type": "code",
      "metadata": {
        "id": "p21LaAoEIJ-k",
        "colab": {
          "base_uri": "https://localhost:8080/",
          "height": 280
        },
        "outputId": "0860f277-944a-423c-cf29-0ff892d8f4d1"
      },
      "source": [
        "p = sns.boxplot(x=\"House_Price\", y=\"Parking\", data=price2) #boxplot data yang sudah di remove outliernya"
      ],
      "execution_count": null,
      "outputs": [
        {
          "output_type": "display_data",
          "data": {
            "image/png": "[encoded data removed]",
            "text/plain": [
              "<Figure size 432x288 with 1 Axes>"
            ]
          },
          "metadata": {
            "tags": [],
            "needs_background": "light"
          }
        }
      ]
    },
    {
      "cell_type": "markdown",
      "metadata": {
        "id": "1nK6BvU9KRCW"
      },
      "source": [
        "#**Tugas 02** (Mengeluarkan outlier bawah dari boxplot di atas)"
      ]
    },
    {
      "cell_type": "code",
      "metadata": {
        "id": "uNo0cqIjJ09Z",
        "colab": {
          "base_uri": "https://localhost:8080/",
          "height": 383
        },
        "outputId": "91308e86-c3fa-47f9-f55e-12996833abe5"
      },
      "source": [
        "p = sns.catplot(x= \"Parking\", y= \"House_Price\", hue= \"City_Category\", kind=\"box\", data=price2)"
      ],
      "execution_count": null,
      "outputs": [
        {
          "output_type": "display_data",
          "data": {
            "image/png": "[encoded data removed]",
            "text/plain": [
              "<Figure size 437.875x360 with 1 Axes>"
            ]
          },
          "metadata": {
            "tags": [],
            "needs_background": "light"
          }
        }
      ]
    },
    {
      "cell_type": "code",
      "metadata": {
        "id": "Ruf0Hc2EsWuw",
        "colab": {
          "base_uri": "https://localhost:8080/",
          "height": 280
        },
        "outputId": "8670a05e-d16e-49ed-c1a3-fe636934d37c"
      },
      "source": [
        "CategoryA = price2[price2.City_Category == 'CAT A']\n",
        "p= sns.boxplot(x= \"House_Price\", y=\"Parking\", data= CategoryA)"
      ],
      "execution_count": null,
      "outputs": [
        {
          "output_type": "display_data",
          "data": {
            "image/png": "[encoded data removed]",
            "text/plain": [
              "<Figure size 432x288 with 1 Axes>"
            ]
          },
          "metadata": {
            "tags": [],
            "needs_background": "light"
          }
        }
      ]
    },
    {
      "cell_type": "code",
      "metadata": {
        "id": "cnkpba7csaNk"
      },
      "source": [
        "#akan dikeluarkan outliers bawah pada Category A\n",
        "\n",
        "CategoryA_open = CategoryA[CategoryA.Parking == \"Open\"]\n",
        "Q1aopen = CategoryA_open['House_Price'].quantile(0.25)\n",
        "Q3aopen = CategoryA_open['House_Price'].quantile(0.75)\n",
        "IQRaopen = Q3aopen - Q1aopen\n",
        "outliers_bawahaopen = (CategoryA_open['House_Price'] < (Q1aopen - 1.5*IQRaopen))\n",
        "\n",
        "CategoryA_nopark = CategoryA[CategoryA.Parking == \"No Parking\"]\n",
        "Q1anopark = CategoryA_nopark['House_Price'].quantile(0.25)\n",
        "Q3anopark = CategoryA_nopark['House_Price'].quantile(0.75)\n",
        "IQRanopark = Q3anopark - Q1anopark\n",
        "outliers_bawahanopark = (CategoryA_nopark['House_Price'] < (Q1anopark - 1.5*IQRanopark))\n",
        "\n",
        "CategoryA_covered = CategoryA[CategoryA.Parking == \"Covered\"]\n",
        "Q1acov = CategoryA_covered['House_Price'].quantile(0.25)\n",
        "Q3acov = CategoryA_covered['House_Price'].quantile(0.75)\n",
        "IQRacov = Q3acov - Q1acov\n",
        "outliers_bawahacov = (CategoryA_covered['House_Price'] < (Q1acov - 1.5*IQRacov))\n"
      ],
      "execution_count": null,
      "outputs": []
    },
    {
      "cell_type": "code",
      "metadata": {
        "id": "7Y4vSbBPscg_",
        "colab": {
          "base_uri": "https://localhost:8080/",
          "height": 79
        },
        "outputId": "701b3cb7-0f56-4b0b-9609-4e7fee931086"
      },
      "source": [
        "CategoryA_open[outliers_bawahaopen].head()"
      ],
      "execution_count": null,
      "outputs": [
        {
          "output_type": "execute_result",
          "data": {
            "text/html": [
              "<div>\n",
              "<style scoped>\n",
              "    .dataframe tbody tr th:only-of-type {\n",
              "        vertical-align: middle;\n",
              "    }\n",
              "\n",
              "    .dataframe tbody tr th {\n",
              "        vertical-align: top;\n",
              "    }\n",
              "\n",
              "    .dataframe thead th {\n",
              "        text-align: right;\n",
              "    }\n",
              "</style>\n",
              "<table border=\"1\" class=\"dataframe\">\n",
              "  <thead>\n",
              "    <tr style=\"text-align: right;\">\n",
              "      <th></th>\n",
              "      <th>Dist_Taxi</th>\n",
              "      <th>Dist_Market</th>\n",
              "      <th>Dist_Hospital</th>\n",
              "      <th>Carpet</th>\n",
              "      <th>Builtup</th>\n",
              "      <th>Parking</th>\n",
              "      <th>City_Category</th>\n",
              "      <th>Rainfall</th>\n",
              "      <th>House_Price</th>\n",
              "    </tr>\n",
              "  </thead>\n",
              "  <tbody>\n",
              "    <tr>\n",
              "      <th>811</th>\n",
              "      <td>NaN</td>\n",
              "      <td>NaN</td>\n",
              "      <td>NaN</td>\n",
              "      <td>NaN</td>\n",
              "      <td>NaN</td>\n",
              "      <td>Open</td>\n",
              "      <td>CAT A</td>\n",
              "      <td>440</td>\n",
              "      <td>30000</td>\n",
              "    </tr>\n",
              "  </tbody>\n",
              "</table>\n",
              "</div>"
            ],
            "text/plain": [
              "     Dist_Taxi  Dist_Market  Dist_Hospital  ...  City_Category  Rainfall House_Price\n",
              "811        NaN          NaN            NaN  ...          CAT A       440       30000\n",
              "\n",
              "[1 rows x 9 columns]"
            ]
          },
          "metadata": {
            "tags": []
          },
          "execution_count": 64
        }
      ]
    },
    {
      "cell_type": "code",
      "metadata": {
        "id": "WycQSPtQsegi",
        "colab": {
          "base_uri": "https://localhost:8080/",
          "height": 79
        },
        "outputId": "e2cf7dc3-36a3-491f-b341-b6680680d81f"
      },
      "source": [
        "CategoryA_nopark[outliers_bawahanopark].head()"
      ],
      "execution_count": null,
      "outputs": [
        {
          "output_type": "execute_result",
          "data": {
            "text/html": [
              "<div>\n",
              "<style scoped>\n",
              "    .dataframe tbody tr th:only-of-type {\n",
              "        vertical-align: middle;\n",
              "    }\n",
              "\n",
              "    .dataframe tbody tr th {\n",
              "        vertical-align: top;\n",
              "    }\n",
              "\n",
              "    .dataframe thead th {\n",
              "        text-align: right;\n",
              "    }\n",
              "</style>\n",
              "<table border=\"1\" class=\"dataframe\">\n",
              "  <thead>\n",
              "    <tr style=\"text-align: right;\">\n",
              "      <th></th>\n",
              "      <th>Dist_Taxi</th>\n",
              "      <th>Dist_Market</th>\n",
              "      <th>Dist_Hospital</th>\n",
              "      <th>Carpet</th>\n",
              "      <th>Builtup</th>\n",
              "      <th>Parking</th>\n",
              "      <th>City_Category</th>\n",
              "      <th>Rainfall</th>\n",
              "      <th>House_Price</th>\n",
              "    </tr>\n",
              "  </thead>\n",
              "  <tbody>\n",
              "    <tr>\n",
              "      <th>409</th>\n",
              "      <td>8773.0</td>\n",
              "      <td>13547.0</td>\n",
              "      <td>15551.0</td>\n",
              "      <td>1509.0</td>\n",
              "      <td>1799.0</td>\n",
              "      <td>No Parking</td>\n",
              "      <td>CAT A</td>\n",
              "      <td>960</td>\n",
              "      <td>3860000</td>\n",
              "    </tr>\n",
              "  </tbody>\n",
              "</table>\n",
              "</div>"
            ],
            "text/plain": [
              "     Dist_Taxi  Dist_Market  Dist_Hospital  ...  City_Category  Rainfall House_Price\n",
              "409     8773.0      13547.0        15551.0  ...          CAT A       960     3860000\n",
              "\n",
              "[1 rows x 9 columns]"
            ]
          },
          "metadata": {
            "tags": []
          },
          "execution_count": 65
        }
      ]
    },
    {
      "cell_type": "code",
      "metadata": {
        "id": "9Q1_8uVBshKV",
        "colab": {
          "base_uri": "https://localhost:8080/",
          "height": 110
        },
        "outputId": "ac39b95b-d35d-4a60-fe71-73d2eb8cc405"
      },
      "source": [
        "CategoryA_covered.loc[outliers_bawahacov].head()"
      ],
      "execution_count": null,
      "outputs": [
        {
          "output_type": "execute_result",
          "data": {
            "text/html": [
              "<div>\n",
              "<style scoped>\n",
              "    .dataframe tbody tr th:only-of-type {\n",
              "        vertical-align: middle;\n",
              "    }\n",
              "\n",
              "    .dataframe tbody tr th {\n",
              "        vertical-align: top;\n",
              "    }\n",
              "\n",
              "    .dataframe thead th {\n",
              "        text-align: right;\n",
              "    }\n",
              "</style>\n",
              "<table border=\"1\" class=\"dataframe\">\n",
              "  <thead>\n",
              "    <tr style=\"text-align: right;\">\n",
              "      <th></th>\n",
              "      <th>Dist_Taxi</th>\n",
              "      <th>Dist_Market</th>\n",
              "      <th>Dist_Hospital</th>\n",
              "      <th>Carpet</th>\n",
              "      <th>Builtup</th>\n",
              "      <th>Parking</th>\n",
              "      <th>City_Category</th>\n",
              "      <th>Rainfall</th>\n",
              "      <th>House_Price</th>\n",
              "    </tr>\n",
              "  </thead>\n",
              "  <tbody>\n",
              "    <tr>\n",
              "      <th>320</th>\n",
              "      <td>11240.0</td>\n",
              "      <td>9781.0</td>\n",
              "      <td>15232.0</td>\n",
              "      <td>1523.0</td>\n",
              "      <td>1813.0</td>\n",
              "      <td>Covered</td>\n",
              "      <td>CAT A</td>\n",
              "      <td>520</td>\n",
              "      <td>4496000</td>\n",
              "    </tr>\n",
              "    <tr>\n",
              "      <th>875</th>\n",
              "      <td>9997.0</td>\n",
              "      <td>12349.0</td>\n",
              "      <td>13043.0</td>\n",
              "      <td>1350.0</td>\n",
              "      <td>1606.0</td>\n",
              "      <td>Covered</td>\n",
              "      <td>CAT A</td>\n",
              "      <td>770</td>\n",
              "      <td>4303000</td>\n",
              "    </tr>\n",
              "  </tbody>\n",
              "</table>\n",
              "</div>"
            ],
            "text/plain": [
              "     Dist_Taxi  Dist_Market  Dist_Hospital  ...  City_Category  Rainfall House_Price\n",
              "320    11240.0       9781.0        15232.0  ...          CAT A       520     4496000\n",
              "875     9997.0      12349.0        13043.0  ...          CAT A       770     4303000\n",
              "\n",
              "[2 rows x 9 columns]"
            ]
          },
          "metadata": {
            "tags": []
          },
          "execution_count": 66
        }
      ]
    },
    {
      "cell_type": "code",
      "metadata": {
        "id": "_klD5tXnsi8a",
        "colab": {
          "base_uri": "https://localhost:8080/",
          "height": 280
        },
        "outputId": "d76122ec-d16d-4fcc-b046-42e9224d51c1"
      },
      "source": [
        "CategoryB = price2[price2.City_Category == 'CAT B']\n",
        "p= sns.boxplot(x = \"House_Price\", y =\"Parking\", data = CategoryB)"
      ],
      "execution_count": null,
      "outputs": [
        {
          "output_type": "display_data",
          "data": {
            "image/png": "[encoded data removed]",
            "text/plain": [
              "<Figure size 432x288 with 1 Axes>"
            ]
          },
          "metadata": {
            "tags": [],
            "needs_background": "light"
          }
        }
      ]
    },
    {
      "cell_type": "markdown",
      "metadata": {
        "id": "oOQw35AEslxs"
      },
      "source": [
        "Tidak ada outlier bawah pada Category B"
      ]
    },
    {
      "cell_type": "code",
      "metadata": {
        "id": "gAC3MxhkspBK",
        "colab": {
          "base_uri": "https://localhost:8080/",
          "height": 280
        },
        "outputId": "e83ba367-2189-4a67-a4d5-f2584aa038b1"
      },
      "source": [
        "CategoryC = price2[price2.City_Category == 'CAT C']\n",
        "p= sns.boxplot(x = \"House_Price\", y =\"Parking\", data = CategoryC)"
      ],
      "execution_count": null,
      "outputs": [
        {
          "output_type": "display_data",
          "data": {
            "image/png": "[encoded data removed]",
            "text/plain": [
              "<Figure size 432x288 with 1 Axes>"
            ]
          },
          "metadata": {
            "tags": [],
            "needs_background": "light"
          }
        }
      ]
    },
    {
      "cell_type": "code",
      "metadata": {
        "id": "AHQgnTySsr7J"
      },
      "source": [
        "#akan dikeluarkan outliers bawah pada Category C\n",
        "\n",
        "CategoryC_covered = CategoryC[CategoryC.Parking == \"Covered\"]\n",
        "Q1ccov = CategoryC_covered['House_Price'].quantile(0.25)\n",
        "Q3ccov = CategoryC_covered['House_Price'].quantile(0.75)\n",
        "IQRccov = Q3ccov - Q1ccov\n",
        "outliers_bawahccov = (CategoryC_covered['House_Price'] < (Q1ccov - 1.5*IQRccov))"
      ],
      "execution_count": null,
      "outputs": []
    },
    {
      "cell_type": "code",
      "metadata": {
        "id": "L3jLmSmFstcr",
        "colab": {
          "base_uri": "https://localhost:8080/",
          "height": 79
        },
        "outputId": "2123bdad-6211-4b07-cd31-48c5acfa370f"
      },
      "source": [
        "CategoryC_covered.loc[outliers_bawahccov].head()"
      ],
      "execution_count": null,
      "outputs": [
        {
          "output_type": "execute_result",
          "data": {
            "text/html": [
              "<div>\n",
              "<style scoped>\n",
              "    .dataframe tbody tr th:only-of-type {\n",
              "        vertical-align: middle;\n",
              "    }\n",
              "\n",
              "    .dataframe tbody tr th {\n",
              "        vertical-align: top;\n",
              "    }\n",
              "\n",
              "    .dataframe thead th {\n",
              "        text-align: right;\n",
              "    }\n",
              "</style>\n",
              "<table border=\"1\" class=\"dataframe\">\n",
              "  <thead>\n",
              "    <tr style=\"text-align: right;\">\n",
              "      <th></th>\n",
              "      <th>Dist_Taxi</th>\n",
              "      <th>Dist_Market</th>\n",
              "      <th>Dist_Hospital</th>\n",
              "      <th>Carpet</th>\n",
              "      <th>Builtup</th>\n",
              "      <th>Parking</th>\n",
              "      <th>City_Category</th>\n",
              "      <th>Rainfall</th>\n",
              "      <th>House_Price</th>\n",
              "    </tr>\n",
              "  </thead>\n",
              "  <tbody>\n",
              "    <tr>\n",
              "      <th>622</th>\n",
              "      <td>4619.0</td>\n",
              "      <td>10768.0</td>\n",
              "      <td>11787.0</td>\n",
              "      <td>1624.0</td>\n",
              "      <td>1946.0</td>\n",
              "      <td>Covered</td>\n",
              "      <td>CAT C</td>\n",
              "      <td>870</td>\n",
              "      <td>2027000</td>\n",
              "    </tr>\n",
              "  </tbody>\n",
              "</table>\n",
              "</div>"
            ],
            "text/plain": [
              "     Dist_Taxi  Dist_Market  Dist_Hospital  ...  City_Category  Rainfall House_Price\n",
              "622     4619.0      10768.0        11787.0  ...          CAT C       870     2027000\n",
              "\n",
              "[1 rows x 9 columns]"
            ]
          },
          "metadata": {
            "tags": []
          },
          "execution_count": 70
        }
      ]
    },
    {
      "cell_type": "markdown",
      "metadata": {
        "id": "GftQf5jjBJSb"
      },
      "source": [
        "#**Tugas 03**"
      ]
    },
    {
      "cell_type": "code",
      "metadata": {
        "id": "BvFDutlb5VZu",
        "colab": {
          "base_uri": "https://localhost:8080/",
          "height": 415
        },
        "outputId": "80c4cbb2-b596-4060-bf62-a29d08951647"
      },
      "source": [
        "tips = pd.read_csv('tips.csv',sep=',')\n",
        "tips"
      ],
      "execution_count": null,
      "outputs": [
        {
          "output_type": "execute_result",
          "data": {
            "text/html": [
              "<div>\n",
              "<style scoped>\n",
              "    .dataframe tbody tr th:only-of-type {\n",
              "        vertical-align: middle;\n",
              "    }\n",
              "\n",
              "    .dataframe tbody tr th {\n",
              "        vertical-align: top;\n",
              "    }\n",
              "\n",
              "    .dataframe thead th {\n",
              "        text-align: right;\n",
              "    }\n",
              "</style>\n",
              "<table border=\"1\" class=\"dataframe\">\n",
              "  <thead>\n",
              "    <tr style=\"text-align: right;\">\n",
              "      <th></th>\n",
              "      <th>total_bill</th>\n",
              "      <th>tip</th>\n",
              "      <th>sex</th>\n",
              "      <th>smoker</th>\n",
              "      <th>day</th>\n",
              "      <th>time</th>\n",
              "      <th>size</th>\n",
              "    </tr>\n",
              "  </thead>\n",
              "  <tbody>\n",
              "    <tr>\n",
              "      <th>0</th>\n",
              "      <td>16.99</td>\n",
              "      <td>1.01</td>\n",
              "      <td>Female</td>\n",
              "      <td>No</td>\n",
              "      <td>Sun</td>\n",
              "      <td>Dinner</td>\n",
              "      <td>2</td>\n",
              "    </tr>\n",
              "    <tr>\n",
              "      <th>1</th>\n",
              "      <td>10.34</td>\n",
              "      <td>1.66</td>\n",
              "      <td>Male</td>\n",
              "      <td>No</td>\n",
              "      <td>Sun</td>\n",
              "      <td>Dinner</td>\n",
              "      <td>3</td>\n",
              "    </tr>\n",
              "    <tr>\n",
              "      <th>2</th>\n",
              "      <td>21.01</td>\n",
              "      <td>3.50</td>\n",
              "      <td>Male</td>\n",
              "      <td>No</td>\n",
              "      <td>Sun</td>\n",
              "      <td>Dinner</td>\n",
              "      <td>3</td>\n",
              "    </tr>\n",
              "    <tr>\n",
              "      <th>3</th>\n",
              "      <td>23.68</td>\n",
              "      <td>3.31</td>\n",
              "      <td>Male</td>\n",
              "      <td>No</td>\n",
              "      <td>Sun</td>\n",
              "      <td>Dinner</td>\n",
              "      <td>2</td>\n",
              "    </tr>\n",
              "    <tr>\n",
              "      <th>4</th>\n",
              "      <td>24.59</td>\n",
              "      <td>3.61</td>\n",
              "      <td>Female</td>\n",
              "      <td>No</td>\n",
              "      <td>Sun</td>\n",
              "      <td>Dinner</td>\n",
              "      <td>4</td>\n",
              "    </tr>\n",
              "    <tr>\n",
              "      <th>...</th>\n",
              "      <td>...</td>\n",
              "      <td>...</td>\n",
              "      <td>...</td>\n",
              "      <td>...</td>\n",
              "      <td>...</td>\n",
              "      <td>...</td>\n",
              "      <td>...</td>\n",
              "    </tr>\n",
              "    <tr>\n",
              "      <th>239</th>\n",
              "      <td>29.03</td>\n",
              "      <td>5.92</td>\n",
              "      <td>Male</td>\n",
              "      <td>No</td>\n",
              "      <td>Sat</td>\n",
              "      <td>Dinner</td>\n",
              "      <td>3</td>\n",
              "    </tr>\n",
              "    <tr>\n",
              "      <th>240</th>\n",
              "      <td>27.18</td>\n",
              "      <td>2.00</td>\n",
              "      <td>Female</td>\n",
              "      <td>Yes</td>\n",
              "      <td>Sat</td>\n",
              "      <td>Dinner</td>\n",
              "      <td>2</td>\n",
              "    </tr>\n",
              "    <tr>\n",
              "      <th>241</th>\n",
              "      <td>22.67</td>\n",
              "      <td>2.00</td>\n",
              "      <td>Male</td>\n",
              "      <td>Yes</td>\n",
              "      <td>Sat</td>\n",
              "      <td>Dinner</td>\n",
              "      <td>2</td>\n",
              "    </tr>\n",
              "    <tr>\n",
              "      <th>242</th>\n",
              "      <td>17.82</td>\n",
              "      <td>1.75</td>\n",
              "      <td>Male</td>\n",
              "      <td>No</td>\n",
              "      <td>Sat</td>\n",
              "      <td>Dinner</td>\n",
              "      <td>2</td>\n",
              "    </tr>\n",
              "    <tr>\n",
              "      <th>243</th>\n",
              "      <td>18.78</td>\n",
              "      <td>3.00</td>\n",
              "      <td>Female</td>\n",
              "      <td>No</td>\n",
              "      <td>Thur</td>\n",
              "      <td>Dinner</td>\n",
              "      <td>2</td>\n",
              "    </tr>\n",
              "  </tbody>\n",
              "</table>\n",
              "<p>244 rows × 7 columns</p>\n",
              "</div>"
            ],
            "text/plain": [
              "     total_bill   tip     sex smoker   day    time  size\n",
              "0         16.99  1.01  Female     No   Sun  Dinner     2\n",
              "1         10.34  1.66    Male     No   Sun  Dinner     3\n",
              "2         21.01  3.50    Male     No   Sun  Dinner     3\n",
              "3         23.68  3.31    Male     No   Sun  Dinner     2\n",
              "4         24.59  3.61  Female     No   Sun  Dinner     4\n",
              "..          ...   ...     ...    ...   ...     ...   ...\n",
              "239       29.03  5.92    Male     No   Sat  Dinner     3\n",
              "240       27.18  2.00  Female    Yes   Sat  Dinner     2\n",
              "241       22.67  2.00    Male    Yes   Sat  Dinner     2\n",
              "242       17.82  1.75    Male     No   Sat  Dinner     2\n",
              "243       18.78  3.00  Female     No  Thur  Dinner     2\n",
              "\n",
              "[244 rows x 7 columns]"
            ]
          },
          "metadata": {
            "tags": []
          },
          "execution_count": 71
        }
      ]
    },
    {
      "cell_type": "markdown",
      "metadata": {
        "id": "KDgK4wAqAa-7"
      },
      "source": [
        "###1. Adakah tipe variabel yang kurang tepat?"
      ]
    },
    {
      "cell_type": "code",
      "metadata": {
        "id": "tVML1Ygr8UmX",
        "colab": {
          "base_uri": "https://localhost:8080/"
        },
        "outputId": "43e8d4ad-be4b-456e-b59d-591497f54224"
      },
      "source": [
        "tips.dtypes"
      ],
      "execution_count": null,
      "outputs": [
        {
          "output_type": "execute_result",
          "data": {
            "text/plain": [
              "total_bill    float64\n",
              "tip           float64\n",
              "sex            object\n",
              "smoker         object\n",
              "day            object\n",
              "time           object\n",
              "size            int64\n",
              "dtype: object"
            ]
          },
          "metadata": {
            "tags": []
          },
          "execution_count": 84
        }
      ]
    },
    {
      "cell_type": "markdown",
      "metadata": {
        "id": "lscwNowAAf8z"
      },
      "source": [
        "Pada 'day' dan 'time', tertulis bahwa tipe variabelnya berupa object, seharusnya keduanya merupakan datetime64\n",
        "\n"
      ]
    },
    {
      "cell_type": "markdown",
      "metadata": {
        "id": "HIntDgrNBDMY"
      },
      "source": [
        "###2. Apakah data numeriknya cenderung berdistribusi normal?"
      ]
    },
    {
      "cell_type": "code",
      "metadata": {
        "id": "0UECNw7FBn-G",
        "colab": {
          "base_uri": "https://localhost:8080/"
        },
        "outputId": "251db55e-64d7-41ea-f582-8e976c455c84"
      },
      "source": [
        "col = 'total_bill'\n",
        "plot = sns.displot(data=tips, x=col, kde=True)"
      ],
      "execution_count": null,
      "outputs": [
        {
          "output_type": "display_data",
          "data": {
            "image/png": "[encoded data removed]",
            "text/plain": [
              "<Figure size 360x360 with 1 Axes>"
            ]
          },
          "metadata": {
            "tags": [],
            "needs_background": "light"
          }
        }
      ]
    },
    {
      "cell_type": "code",
      "metadata": {
        "id": "Cf-lK9LBKn7m",
        "colab": {
          "base_uri": "https://localhost:8080/"
        },
        "outputId": "1357c412-7e7b-42f9-9ea5-95bd12d93f55"
      },
      "source": [
        "tips.mean()"
      ],
      "execution_count": null,
      "outputs": [
        {
          "output_type": "execute_result",
          "data": {
            "text/plain": [
              "total_bill    19.785943\n",
              "tip            2.998279\n",
              "size           2.569672\n",
              "dtype: float64"
            ]
          },
          "metadata": {
            "tags": []
          },
          "execution_count": 74
        }
      ]
    },
    {
      "cell_type": "markdown",
      "metadata": {
        "id": "pKwqXOfkKLxq"
      },
      "source": [
        "Dari plot tersebut, terlihat bahwa puncak datanya bukan berada pada nilai rata-rata dari total_bill sehingga kurvanya tidak simetris pada garis vertikal rata-rata. Maka dari itu, data tersebut tidak berdistribusi normal"
      ]
    },
    {
      "cell_type": "markdown",
      "metadata": {
        "id": "ahqq-HlgBd13"
      },
      "source": [
        "###3. Apakah ada outlier, noise, missing values, dan/atau duplikasi data?"
      ]
    },
    {
      "cell_type": "code",
      "metadata": {
        "id": "bOcxc985CO46",
        "colab": {
          "base_uri": "https://localhost:8080/"
        },
        "outputId": "ed1c7d75-f9ee-4772-da22-49fd64fb7ffa"
      },
      "source": [
        "#mencari outlier\n",
        "sns.boxplot(x=tips['total_bill'])"
      ],
      "execution_count": null,
      "outputs": [
        {
          "output_type": "execute_result",
          "data": {
            "text/plain": [
              "<matplotlib.axes._subplots.AxesSubplot at 0x7f30dc8b7550>"
            ]
          },
          "metadata": {
            "tags": []
          },
          "execution_count": 75
        },
        {
          "output_type": "display_data",
          "data": {
            "image/png": "[encoded data removed]",
            "text/plain": [
              "<Figure size 432x288 with 1 Axes>"
            ]
          },
          "metadata": {
            "tags": [],
            "needs_background": "light"
          }
        }
      ]
    },
    {
      "cell_type": "code",
      "metadata": {
        "id": "2SLgYn2TH6UC",
        "colab": {
          "base_uri": "https://localhost:8080/"
        },
        "outputId": "b2e53723-e507-4667-856e-cf63bde6286f"
      },
      "source": [
        "tips.info()"
      ],
      "execution_count": null,
      "outputs": [
        {
          "output_type": "stream",
          "text": [
            "<class 'pandas.core.frame.DataFrame'>\n",
            "RangeIndex: 244 entries, 0 to 243\n",
            "Data columns (total 7 columns):\n",
            " #   Column      Non-Null Count  Dtype  \n",
            "---  ------      --------------  -----  \n",
            " 0   total_bill  244 non-null    float64\n",
            " 1   tip         244 non-null    float64\n",
            " 2   sex         244 non-null    object \n",
            " 3   smoker      244 non-null    object \n",
            " 4   day         244 non-null    object \n",
            " 5   time        244 non-null    object \n",
            " 6   size        244 non-null    int64  \n",
            "dtypes: float64(2), int64(1), object(4)\n",
            "memory usage: 13.5+ KB\n"
          ],
          "name": "stdout"
        }
      ]
    },
    {
      "cell_type": "code",
      "metadata": {
        "id": "K8HZotoW8QcE",
        "colab": {
          "base_uri": "https://localhost:8080/"
        },
        "outputId": "f4a3e7db-b1b6-48a8-948a-02c19a1e19b1"
      },
      "source": [
        "#mencari missing value\n",
        "tips.isna().sum()"
      ],
      "execution_count": null,
      "outputs": [
        {
          "output_type": "execute_result",
          "data": {
            "text/plain": [
              "total_bill    0\n",
              "tip           0\n",
              "sex           0\n",
              "smoker        0\n",
              "day           0\n",
              "time          0\n",
              "size          0\n",
              "dtype: int64"
            ]
          },
          "metadata": {
            "tags": []
          },
          "execution_count": 77
        }
      ]
    },
    {
      "cell_type": "code",
      "metadata": {
        "id": "7vC4u46eCsmm",
        "colab": {
          "base_uri": "https://localhost:8080/"
        },
        "outputId": "261a5738-ff4e-4b30-e3f0-01818d2f0dea"
      },
      "source": [
        "#mencari duplikasi data\n",
        "tips.duplicated().sum()"
      ],
      "execution_count": null,
      "outputs": [
        {
          "output_type": "execute_result",
          "data": {
            "text/plain": [
              "1"
            ]
          },
          "metadata": {
            "tags": []
          },
          "execution_count": 78
        }
      ]
    },
    {
      "cell_type": "markdown",
      "metadata": {
        "id": "665dtyALB3Fg"
      },
      "source": [
        "Pada data tersebut, terlihat bahwa:\n",
        "- terdapat outlier\n",
        "- tidak terdapat noise\n",
        "- tidak terdapat missing value\n",
        "- terdapat duplikasi data"
      ]
    },
    {
      "cell_type": "markdown",
      "metadata": {
        "id": "SSmRUjYEBpZ1"
      },
      "source": [
        "###4. Apakah pelanggan pria dan wanita cenderung proporsional (balance)?"
      ]
    },
    {
      "cell_type": "code",
      "metadata": {
        "id": "kEgOuAwbBvcW",
        "colab": {
          "base_uri": "https://localhost:8080/"
        },
        "outputId": "b4647d37-bdd1-4bd7-8121-d19e4b8aa02d"
      },
      "source": [
        "tips.sex.value_counts()"
      ],
      "execution_count": null,
      "outputs": [
        {
          "output_type": "execute_result",
          "data": {
            "text/plain": [
              "Male      157\n",
              "Female     87\n",
              "Name: sex, dtype: int64"
            ]
          },
          "metadata": {
            "tags": []
          },
          "execution_count": 79
        }
      ]
    },
    {
      "cell_type": "markdown",
      "metadata": {
        "id": "KOkTT6clMIqR"
      },
      "source": [
        "Dari hasil tersebut, terlihat bahwa jumlah pelanggan pria hampir 2 kali lebih banyak daripada pelanggan wanita. Oleh karena itu, jumlah pelanggan pria dan wanita tidak proporsional"
      ]
    },
    {
      "cell_type": "markdown",
      "metadata": {
        "id": "kslgAdCo9zFk"
      },
      "source": [
        "###5. Dari data yang ada apakah Pria atau Wanita ada kecenderungan memberi tips lebih besar?\n",
        "\n"
      ]
    },
    {
      "cell_type": "code",
      "metadata": {
        "id": "aTUjPVu796yP",
        "colab": {
          "base_uri": "https://localhost:8080/"
        },
        "outputId": "f066f40f-f3ed-442e-d8ba-d2e0a3c4e761"
      },
      "source": [
        "sns.catplot(x=\"time\", y=\"tip\", hue=\"sex\", kind=\"swarm\", data=tips)"
      ],
      "execution_count": null,
      "outputs": [
        {
          "output_type": "execute_result",
          "data": {
            "text/plain": [
              "<seaborn.axisgrid.FacetGrid at 0x7f30dc89cc10>"
            ]
          },
          "metadata": {
            "tags": []
          },
          "execution_count": 80
        },
        {
          "output_type": "display_data",
          "data": {
            "image/png": "[encoded data removed]",
            "text/plain": [
              "<Figure size 432.125x360 with 1 Axes>"
            ]
          },
          "metadata": {
            "tags": [],
            "needs_background": "light"
          }
        }
      ]
    },
    {
      "cell_type": "markdown",
      "metadata": {
        "id": "FVe7wU5hAYd6"
      },
      "source": [
        "Berdasarkan grafik di atas, terlihat bahwa tidak adanya kecenderungan baik pria maupun wanita memberi tips yang lebih besar"
      ]
    },
    {
      "cell_type": "markdown",
      "metadata": {
        "id": "Rz42ENIuBCUX"
      },
      "source": [
        "### 6. Dari data yang ada apakah ada kecenderungan tips lebih besar di hari-hari tertentu?"
      ]
    },
    {
      "cell_type": "code",
      "metadata": {
        "id": "wK97W3w4BDcZ",
        "colab": {
          "base_uri": "https://localhost:8080/"
        },
        "outputId": "b8f15614-fb0d-44d3-e27c-930fab988096"
      },
      "source": [
        "sns.catplot(x=\"day\", y=\"tip\", data=tips)"
      ],
      "execution_count": null,
      "outputs": [
        {
          "output_type": "execute_result",
          "data": {
            "text/plain": [
              "<seaborn.axisgrid.FacetGrid at 0x7f30dcbcaad0>"
            ]
          },
          "metadata": {
            "tags": []
          },
          "execution_count": 81
        },
        {
          "output_type": "display_data",
          "data": {
            "image/png": "[encoded data removed]",
            "text/plain": [
              "<Figure size 360x360 with 1 Axes>"
            ]
          },
          "metadata": {
            "tags": [],
            "needs_background": "light"
          }
        }
      ]
    },
    {
      "cell_type": "markdown",
      "metadata": {
        "id": "278SzpszBTLz"
      },
      "source": [
        "Dari grafik di atas, terlihat bahwa tidak adanya kecenderungan tips lebih besar pada hari-hari tertentu"
      ]
    },
    {
      "cell_type": "markdown",
      "metadata": {
        "id": "OmcNVXPVB4p2"
      },
      "source": [
        "###7. Dari data yang ada apakah customer perokok cenderung memberi tips lebih besar?"
      ]
    },
    {
      "cell_type": "code",
      "metadata": {
        "id": "NUYQvJS-CBEu",
        "colab": {
          "base_uri": "https://localhost:8080/"
        },
        "outputId": "1a6dddb5-2ce2-4574-ed0e-9c7712ac6abe"
      },
      "source": [
        "sns.catplot(x=\"smoker\", y=\"tip\", data=tips)"
      ],
      "execution_count": null,
      "outputs": [
        {
          "output_type": "execute_result",
          "data": {
            "text/plain": [
              "<seaborn.axisgrid.FacetGrid at 0x7f30e57b6710>"
            ]
          },
          "metadata": {
            "tags": []
          },
          "execution_count": 82
        },
        {
          "output_type": "display_data",
          "data": {
            "image/png": "[encoded data removed]",
            "text/plain": [
              "<Figure size 360x360 with 1 Axes>"
            ]
          },
          "metadata": {
            "tags": [],
            "needs_background": "light"
          }
        }
      ]
    },
    {
      "cell_type": "markdown",
      "metadata": {
        "id": "sTcZMpwYCJws"
      },
      "source": [
        "Berdasarkan grafik di atas, tidak ada hubungan antara customer perokok dengan besar tips yang diberikan"
      ]
    },
    {
      "cell_type": "markdown",
      "metadata": {
        "id": "l2fRjFsZCX8J"
      },
      "source": [
        "###8. Apakah pola di nomor 5 dan 7 dipengaruhi hari ?\n"
      ]
    },
    {
      "cell_type": "code",
      "metadata": {
        "id": "0cwJPY0FCgLH",
        "colab": {
          "base_uri": "https://localhost:8080/"
        },
        "outputId": "0a307da6-c48e-44c8-9989-68578007bb17"
      },
      "source": [
        "sns.catplot(x=\"day\", y=\"tip\", hue=\"smoker\", kind=\"swarm\", data=tips)"
      ],
      "execution_count": null,
      "outputs": [
        {
          "output_type": "stream",
          "text": [
            "/usr/local/lib/python3.7/dist-packages/seaborn/categorical.py:1296: UserWarning: 8.1% of the points cannot be placed; you may want to decrease the size of the markers or use stripplot.\n",
            "  warnings.warn(msg, UserWarning)\n"
          ],
          "name": "stderr"
        },
        {
          "output_type": "execute_result",
          "data": {
            "text/plain": [
              "<seaborn.axisgrid.FacetGrid at 0x7f30dc8ced50>"
            ]
          },
          "metadata": {
            "tags": []
          },
          "execution_count": 83
        },
        {
          "output_type": "display_data",
          "data": {
            "image/png": "[encoded data removed]",
            "text/plain": [
              "<Figure size 412x360 with 1 Axes>"
            ]
          },
          "metadata": {
            "tags": [],
            "needs_background": "light"
          }
        }
      ]
    },
    {
      "cell_type": "markdown",
      "metadata": {
        "id": "UKxDTwnHDM7i"
      },
      "source": [
        "Berdasarkan grafik, perbedaan hari tidak berpengaruh"
      ]
    },
    {
      "cell_type": "markdown",
      "metadata": {
        "id": "_i3JHLDVJuC_"
      },
      "source": [
        "### 9. Pola apalagi yang dapat anda temukan?"
      ]
    },
    {
      "cell_type": "markdown",
      "metadata": {
        "id": "ByHPx0bAKE2F"
      },
      "source": [
        "Dari data yang didapat, kami melihat bahwa pelanggan lebih banyak berdatangan secara berpasangan, maka dari itu disarankan agar membuat tata meja dan kursi untuk bersama."
      ]
    },
    {
      "cell_type": "markdown",
      "metadata": {
        "id": "5il-Kp9uJv5K"
      },
      "source": [
        "### 10. Dari hasil EDA anda saran apa saja yang akan anda berikan kepada pemilik  restoran?"
      ]
    },
    {
      "cell_type": "markdown",
      "metadata": {
        "id": "tpbtuXInCylz"
      },
      "source": [
        "Menurut kami, dari data yang sudah di proses, kami menyarankan agar restoran memperbanyak pegawai wanita karena jumlah pelanggan pria lebih banyak dibanding pelanggan wanita dan memperbanyak pegawai  pada hari sabtu dan minggu karena pada data, terlihat saat weekend lebih padat dari hari kamis dan jumat. Kami juga menyarankan restoran agar memperbanyak tempat duduk di dalam ruangan karena lebih banyak pelanggan yang tidak merokok."
      ]
    }
  ]
}